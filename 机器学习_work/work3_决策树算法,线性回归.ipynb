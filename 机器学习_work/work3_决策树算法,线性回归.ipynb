{
 "cells": [
  {
   "cell_type": "markdown",
   "metadata": {
    "collapsed": true,
    "pycharm": {
     "name": "#%% md\n"
    }
   },
   "source": [
    "## 分类算法--决策树\n",
    "决策树常用的判定依据有:<br>\n",
    "1. ID3--计算信息增益\n",
    "> 缺点:计算信息熵时,当特征值越多,条件增益就越小,反之得到的信息增益就越大.<br>\n",
    "> 因此ID3算法会利于包含特征值较多的特征\n",
    "2. C4.5--在信息增益的基础上除以一个特征对应固有值,得到信息增益率\n",
    "> 缺点:与ID3恰恰相反,当一个特征包含的特征值较小时,对应固有值越小,因此整体得到的信息增益率越大<br>\n",
    "> 因此C4.5算法有利于特征值较少的特征\n",
    "3. CART--基尼系数\n",
    "> 整体划分更加仔细"
   ]
  },
  {
   "cell_type": "markdown",
   "source": [
    "### 泰坦尼克号幸存预测案例分析"
   ],
   "metadata": {
    "collapsed": false,
    "pycharm": {
     "name": "#%% md\n"
    }
   }
  },
  {
   "cell_type": "code",
   "execution_count": 3,
   "outputs": [
    {
     "name": "stdout",
     "output_type": "stream",
     "text": [
      "<class 'pandas.core.frame.DataFrame'>\n",
      "RangeIndex: 1313 entries, 0 to 1312\n",
      "Data columns (total 11 columns):\n",
      " #   Column     Non-Null Count  Dtype  \n",
      "---  ------     --------------  -----  \n",
      " 0   row.names  1313 non-null   int64  \n",
      " 1   pclass     1313 non-null   object \n",
      " 2   survived   1313 non-null   int64  \n",
      " 3   name       1313 non-null   object \n",
      " 4   age        633 non-null    float64\n",
      " 5   embarked   821 non-null    object \n",
      " 6   home.dest  754 non-null    object \n",
      " 7   room       77 non-null     object \n",
      " 8   ticket     69 non-null     object \n",
      " 9   boat       347 non-null    object \n",
      " 10  sex        1313 non-null   object \n",
      "dtypes: float64(1), int64(2), object(8)\n",
      "memory usage: 113.0+ KB\n",
      "None\n",
      "--------------------------------------------------\n",
      "   row.names pclass  survived  \\\n",
      "0          1    1st         1   \n",
      "1          2    1st         0   \n",
      "2          3    1st         0   \n",
      "3          4    1st         0   \n",
      "4          5    1st         1   \n",
      "\n",
      "                                              name      age     embarked  \\\n",
      "0                     Allen, Miss Elisabeth Walton  29.0000  Southampton   \n",
      "1                      Allison, Miss Helen Loraine   2.0000  Southampton   \n",
      "2              Allison, Mr Hudson Joshua Creighton  30.0000  Southampton   \n",
      "3  Allison, Mrs Hudson J.C. (Bessie Waldo Daniels)  25.0000  Southampton   \n",
      "4                    Allison, Master Hudson Trevor   0.9167  Southampton   \n",
      "\n",
      "                         home.dest room      ticket   boat     sex  \n",
      "0                     St Louis, MO  B-5  24160 L221      2  female  \n",
      "1  Montreal, PQ / Chesterville, ON  C26         NaN    NaN  female  \n",
      "2  Montreal, PQ / Chesterville, ON  C26         NaN  (135)    male  \n",
      "3  Montreal, PQ / Chesterville, ON  C26         NaN    NaN  female  \n",
      "4  Montreal, PQ / Chesterville, ON  C22         NaN     11    male  \n"
     ]
    }
   ],
   "source": [
    "# 导包及导入数据\n",
    "import pandas as pd\n",
    "from sklearn.tree import DecisionTreeClassifier, export_graphviz  # 决策树,输出接口\n",
    "from sklearn.feature_extraction import DictVectorizer  # 字典数据特政工程提取\n",
    "from sklearn.model_selection import train_test_split, GridSearchCV  # 数据集分割, 网格搜素\n",
    "from sklearn.ensemble import RandomForestClassifier  # 随机森林\n",
    "import pandas as ps\n",
    "\n",
    "titan = pd.read_csv('./data/titanic.txt')\n",
    "print(titan.info())\n",
    "print('-' * 50)\n",
    "print(titan.head())"
   ],
   "metadata": {
    "collapsed": false,
    "pycharm": {
     "name": "#%%\n"
    }
   }
  },
  {
   "cell_type": "code",
   "execution_count": 4,
   "outputs": [
    {
     "name": "stdout",
     "output_type": "stream",
     "text": [
      "<class 'pandas.core.frame.DataFrame'>\n",
      "RangeIndex: 1313 entries, 0 to 1312\n",
      "Data columns (total 3 columns):\n",
      " #   Column  Non-Null Count  Dtype  \n",
      "---  ------  --------------  -----  \n",
      " 0   pclass  1313 non-null   object \n",
      " 1   age     633 non-null    float64\n",
      " 2   sex     1313 non-null   object \n",
      "dtypes: float64(1), object(2)\n",
      "memory usage: 30.9+ KB\n",
      "None\n",
      "       pclass   sex\n",
      "count    1313  1313\n",
      "unique      3     2\n",
      "top       3rd  male\n",
      "freq      711   850\n"
     ]
    }
   ],
   "source": [
    "# 处理数据,从数据集中提取出特征值与目标值\n",
    "# 推测阶级,性别,年龄三个特征与幸存有关,因此提取为特征值\n",
    "x = titan[['pclass', 'age', 'sex']]\n",
    "\n",
    "y = titan['survived']\n",
    "print(x.info())  # 判断特征值中是否存在空值\n",
    "print(x.describe(include=object))"
   ],
   "metadata": {
    "collapsed": false,
    "pycharm": {
     "name": "#%%\n"
    }
   }
  },
  {
   "cell_type": "code",
   "execution_count": 6,
   "outputs": [
    {
     "name": "stdout",
     "output_type": "stream",
     "text": [
      "    pclass        age     sex\n",
      "598    2nd  30.000000    male\n",
      "246    1st  62.000000    male\n",
      "905    3rd  31.194181  female\n",
      "300    1st  31.194181  female\n",
      "509    2nd  64.000000    male\n"
     ]
    },
    {
     "name": "stderr",
     "output_type": "stream",
     "text": [
      "C:\\Users\\L\\AppData\\Local\\Temp\\ipykernel_6712\\2450990912.py:2: SettingWithCopyWarning: \n",
      "A value is trying to be set on a copy of a slice from a DataFrame.\n",
      "Try using .loc[row_indexer,col_indexer] = value instead\n",
      "\n",
      "See the caveats in the documentation: https://pandas.pydata.org/pandas-docs/stable/user_guide/indexing.html#returning-a-view-versus-a-copy\n",
      "  x['age'] = x['age'].fillna(x['age'].mean())\n"
     ]
    }
   ],
   "source": [
    "# 发生年龄中存在1313-633个空值,特征值要求不可为空,因此必须进行填补\n",
    "x['age'] = x['age'].fillna(x['age'].mean())\n",
    "\n",
    "# 处理结束后,对数据集进行分割,得到训练集和测试集\n",
    "x_train, x_test, y_train, y_test = train_test_split(x, y, test_size=0.25, random_state=4)\n",
    "print(x_train.head())"
   ],
   "metadata": {
    "collapsed": false,
    "pycharm": {
     "name": "#%%\n"
    }
   }
  },
  {
   "cell_type": "code",
   "execution_count": 9,
   "outputs": [
    {
     "name": "stdout",
     "output_type": "stream",
     "text": [
      "<class 'numpy.ndarray'>\n",
      "['age' 'pclass=1st' 'pclass=2nd' 'pclass=3rd' 'sex=female' 'sex=male']\n",
      "--------------------------------------------------\n",
      "[[30.          0.          1.          0.          0.          1.        ]\n",
      " [62.          1.          0.          0.          0.          1.        ]\n",
      " [31.19418104  0.          0.          1.          1.          0.        ]\n",
      " ...\n",
      " [34.          0.          1.          0.          0.          1.        ]\n",
      " [46.          1.          0.          0.          0.          1.        ]\n",
      " [31.19418104  0.          0.          1.          0.          1.        ]]\n"
     ]
    }
   ],
   "source": [
    "# 对数据集进行特征提取,采用字典数据转换为one-hot编码\n",
    "# 此时特征转换一定要输出矩阵,而不是压缩矩阵\n",
    "dict = DictVectorizer(sparse=False)\n",
    "\n",
    "# 先利用to_dict将数据转换为字典,利用orient=record参数将对应列名转为键\n",
    "x_train = dict.fit_transform(x_train.to_dict(orient='records'))\n",
    "print(type(x_train))\n",
    "print(dict.get_feature_names_out())\n",
    "print('-' * 50)\n",
    "x_test = dict.transform(x_test.to_dict(orient='records'))\n",
    "print(x_train)"
   ],
   "metadata": {
    "collapsed": false,
    "pycharm": {
     "name": "#%%\n"
    }
   }
  },
  {
   "cell_type": "code",
   "execution_count": 10,
   "outputs": [
    {
     "name": "stdout",
     "output_type": "stream",
     "text": [
      "预测准确率: 0.8085106382978723\n"
     ]
    }
   ],
   "source": [
    "# 利用决策树进行预测\n",
    "dec = DecisionTreeClassifier()\n",
    "\n",
    "# 进行fit训练\n",
    "dec.fit(x_train, y_train)\n",
    "\n",
    "# 预测准确率\n",
    "print('预测准确率:', dec.score(x_test, y_test))\n",
    "\n",
    "# 导出决策树的结构\n",
    "export_graphviz(dec, out_file=\"tree.dot\",\n",
    "                feature_names=['age', 'pclass=1st', 'pclass=2nd', 'pclass=3rd', 'female', 'male'])"
   ],
   "metadata": {
    "collapsed": false,
    "pycharm": {
     "name": "#%%\n"
    }
   }
  },
  {
   "cell_type": "markdown",
   "source": [
    "导出的决策树结构,可以通过<br>\n",
    "dot -Tpng tree.dot -o tree.png<br>\n",
    "命令转为图查看<对应目录终端下执行>"
   ],
   "metadata": {
    "collapsed": false,
    "pycharm": {
     "name": "#%% md\n"
    }
   }
  },
  {
   "cell_type": "markdown",
   "source": [
    "了解决策树接口的各参数,进行调参练习\n",
    "> criterion=\"gini\", 决策树算法依据,默认gini系数,还可以选择entropy信息熵,id3,c4.5\n",
    "max_depth=None, 树的深度选取\n",
    "min_samples_split=2, 拆分内部节点所需的最少样本数\n",
    "min_samples_leaf=1, 叶子结点的最少样本数\n",
    "random_state=None, 随机数种子"
   ],
   "metadata": {
    "collapsed": false,
    "pycharm": {
     "name": "#%% md\n"
    }
   }
  },
  {
   "cell_type": "code",
   "execution_count": 13,
   "outputs": [
    {
     "name": "stdout",
     "output_type": "stream",
     "text": [
      "    pclass        age     sex\n",
      "598    2nd  30.000000    male\n",
      "246    1st  62.000000    male\n",
      "905    3rd  31.194181  female\n",
      "300    1st  31.194181  female\n",
      "509    2nd  64.000000    male\n",
      "<class 'numpy.ndarray'>\n",
      "['age' 'pclass=1st' 'pclass=2nd' 'pclass=3rd' 'sex=female' 'sex=male']\n",
      "--------------------------------------------------\n",
      "预测的准确率： 0.817629179331307\n"
     ]
    }
   ],
   "source": [
    "# 调参练习\n",
    "# 分割数据集重新处理\n",
    "x_train, x_test, y_train, y_test = train_test_split(x, y, test_size=0.25, random_state=4)\n",
    "print(x_train.head())\n",
    "# 进行处理（特征工程）特征-》类别-》one_hot编码\n",
    "dict = DictVectorizer(sparse=False)\n",
    "\n",
    "# 这一步是对字典进行特征抽取\n",
    "x_train = dict.fit_transform(x_train.to_dict(orient=\"records\"))\n",
    "print(type(x_train))\n",
    "print(dict.get_feature_names_out())\n",
    "print('-' * 50)\n",
    "x_test = dict.transform(x_test.to_dict(orient=\"records\"))\n",
    "\n",
    "# print(x_train)\n",
    "# # 用决策树进行预测，修改max_depth为10，发现提升了\n",
    "dec = DecisionTreeClassifier(max_depth=10)\n",
    "\n",
    "dec.fit(x_train, y_train)\n",
    "#\n",
    "# # 预测准确率\n",
    "print(\"预测的准确率：\", dec.score(x_test, y_test))\n",
    "#\n",
    "# # 导出决策树的结构\n",
    "export_graphviz(dec, out_file=\"tree.dot\",\n",
    "                feature_names=dict.get_feature_names_out())"
   ],
   "metadata": {
    "collapsed": false,
    "pycharm": {
     "name": "#%%\n"
    }
   }
  },
  {
   "cell_type": "markdown",
   "source": [
    "引入随机森林进行进一步优化"
   ],
   "metadata": {
    "collapsed": false,
    "pycharm": {
     "name": "#%% md\n"
    }
   }
  },
  {
   "cell_type": "code",
   "execution_count": 15,
   "outputs": [
    {
     "name": "stdout",
     "output_type": "stream",
     "text": [
      "准确率： 0.8328267477203647\n",
      "查看选择的参数模型： {'max_depth': 6, 'n_estimators': 1500}\n",
      "选择最好的模型是： RandomForestClassifier(max_depth=6, n_estimators=1500, n_jobs=-1)\n"
     ]
    }
   ],
   "source": [
    "# 随机森林进行预测 （超参数调优），n_jobs充分利用多核的一个参数\n",
    "# -1即默认取最大值,也可以填入正数指定对应核数\n",
    "rf = RandomForestClassifier(n_jobs=-1)\n",
    "# 120, 200, 300, 500, 800, 1200,n_estimators森林中决策树的数目，也就是分类器的数目\n",
    "# max_samples  是最大样本数\n",
    "#bagging类型\n",
    "param = {\"n_estimators\": [1500, 1750, 2000], \"max_depth\": [i for i in range(2, 10)]}\n",
    "\n",
    "# 网格搜索与交叉验证\n",
    "gc = GridSearchCV(rf, param_grid=param, cv=3)\n",
    "\n",
    "gc.fit(x_train, y_train)\n",
    "\n",
    "print(\"准确率：\", gc.score(x_test, y_test))\n",
    "\n",
    "print(\"查看选择的参数模型：\", gc.best_params_)\n",
    "\n",
    "print(\"选择最好的模型是：\", gc.best_estimator_)"
   ],
   "metadata": {
    "collapsed": false,
    "pycharm": {
     "name": "#%%\n"
    }
   }
  },
  {
   "cell_type": "markdown",
   "source": [
    "通过结果可以看到,在随机森林下,预测率进一步提升,并且发现树深度不宜过高!\n"
   ],
   "metadata": {
    "collapsed": false,
    "pycharm": {
     "name": "#%% md\n"
    }
   }
  },
  {
   "cell_type": "markdown",
   "source": [
    "## 线性回归与梯度下降预测\n",
    "利用线性回归预测房子价格"
   ],
   "metadata": {
    "collapsed": false,
    "pycharm": {
     "name": "#%% md\n"
    }
   }
  },
  {
   "cell_type": "code",
   "execution_count": 20,
   "outputs": [],
   "source": [
    "# 导包\n",
    "from sklearn.datasets import load_boston  # 数据集\n",
    "from sklearn.linear_model import LinearRegression  # 线性回归接口\n",
    "from sklearn.linear_model import SGDRegressor  # 梯度下降预测\n",
    "from sklearn.preprocessing import StandardScaler  # 标准化接口\n",
    "from sklearn.model_selection import train_test_split  # 数据集分离\n",
    "from sklearn.metrics import mean_squared_error, classification_report, roc_auc_score\n",
    "# 均方差计算, 分类结果, rocauc指标\n",
    "import joblib\n",
    "import pandas as pd\n",
    "import numpy as np"
   ],
   "metadata": {
    "collapsed": false,
    "pycharm": {
     "name": "#%%\n"
    }
   }
  },
  {
   "cell_type": "code",
   "execution_count": 22,
   "outputs": [
    {
     "name": "stdout",
     "output_type": "stream",
     "text": [
      "获取特征值:\n",
      " [[6.3200e-03 1.8000e+01 2.3100e+00 ... 1.5300e+01 3.9690e+02 4.9800e+00]\n",
      " [2.7310e-02 0.0000e+00 7.0700e+00 ... 1.7800e+01 3.9690e+02 9.1400e+00]\n",
      " [2.7290e-02 0.0000e+00 7.0700e+00 ... 1.7800e+01 3.9283e+02 4.0300e+00]\n",
      " ...\n",
      " [6.0760e-02 0.0000e+00 1.1930e+01 ... 2.1000e+01 3.9690e+02 5.6400e+00]\n",
      " [1.0959e-01 0.0000e+00 1.1930e+01 ... 2.1000e+01 3.9345e+02 6.4800e+00]\n",
      " [4.7410e-02 0.0000e+00 1.1930e+01 ... 2.1000e+01 3.9690e+02 7.8800e+00]]\n",
      "获取目标值:\n",
      " [24.  21.6 34.7 33.4 36.2 28.7 22.9 27.1 16.5 18.9 15.  18.9 21.7 20.4\n",
      " 18.2 19.9 23.1 17.5 20.2 18.2 13.6 19.6 15.2 14.5 15.6 13.9 16.6 14.8\n",
      " 18.4 21.  12.7 14.5 13.2 13.1 13.5 18.9 20.  21.  24.7 30.8 34.9 26.6\n",
      " 25.3 24.7 21.2 19.3 20.  16.6 14.4 19.4 19.7 20.5 25.  23.4 18.9 35.4\n",
      " 24.7 31.6 23.3 19.6 18.7 16.  22.2 25.  33.  23.5 19.4 22.  17.4 20.9\n",
      " 24.2 21.7 22.8 23.4 24.1 21.4 20.  20.8 21.2 20.3 28.  23.9 24.8 22.9\n",
      " 23.9 26.6 22.5 22.2 23.6 28.7 22.6 22.  22.9 25.  20.6 28.4 21.4 38.7\n",
      " 43.8 33.2 27.5 26.5 18.6 19.3 20.1 19.5 19.5 20.4 19.8 19.4 21.7 22.8\n",
      " 18.8 18.7 18.5 18.3 21.2 19.2 20.4 19.3 22.  20.3 20.5 17.3 18.8 21.4\n",
      " 15.7 16.2 18.  14.3 19.2 19.6 23.  18.4 15.6 18.1 17.4 17.1 13.3 17.8\n",
      " 14.  14.4 13.4 15.6 11.8 13.8 15.6 14.6 17.8 15.4 21.5 19.6 15.3 19.4\n",
      " 17.  15.6 13.1 41.3 24.3 23.3 27.  50.  50.  50.  22.7 25.  50.  23.8\n",
      " 23.8 22.3 17.4 19.1 23.1 23.6 22.6 29.4 23.2 24.6 29.9 37.2 39.8 36.2\n",
      " 37.9 32.5 26.4 29.6 50.  32.  29.8 34.9 37.  30.5 36.4 31.1 29.1 50.\n",
      " 33.3 30.3 34.6 34.9 32.9 24.1 42.3 48.5 50.  22.6 24.4 22.5 24.4 20.\n",
      " 21.7 19.3 22.4 28.1 23.7 25.  23.3 28.7 21.5 23.  26.7 21.7 27.5 30.1\n",
      " 44.8 50.  37.6 31.6 46.7 31.5 24.3 31.7 41.7 48.3 29.  24.  25.1 31.5\n",
      " 23.7 23.3 22.  20.1 22.2 23.7 17.6 18.5 24.3 20.5 24.5 26.2 24.4 24.8\n",
      " 29.6 42.8 21.9 20.9 44.  50.  36.  30.1 33.8 43.1 48.8 31.  36.5 22.8\n",
      " 30.7 50.  43.5 20.7 21.1 25.2 24.4 35.2 32.4 32.  33.2 33.1 29.1 35.1\n",
      " 45.4 35.4 46.  50.  32.2 22.  20.1 23.2 22.3 24.8 28.5 37.3 27.9 23.9\n",
      " 21.7 28.6 27.1 20.3 22.5 29.  24.8 22.  26.4 33.1 36.1 28.4 33.4 28.2\n",
      " 22.8 20.3 16.1 22.1 19.4 21.6 23.8 16.2 17.8 19.8 23.1 21.  23.8 23.1\n",
      " 20.4 18.5 25.  24.6 23.  22.2 19.3 22.6 19.8 17.1 19.4 22.2 20.7 21.1\n",
      " 19.5 18.5 20.6 19.  18.7 32.7 16.5 23.9 31.2 17.5 17.2 23.1 24.5 26.6\n",
      " 22.9 24.1 18.6 30.1 18.2 20.6 17.8 21.7 22.7 22.6 25.  19.9 20.8 16.8\n",
      " 21.9 27.5 21.9 23.1 50.  50.  50.  50.  50.  13.8 13.8 15.  13.9 13.3\n",
      " 13.1 10.2 10.4 10.9 11.3 12.3  8.8  7.2 10.5  7.4 10.2 11.5 15.1 23.2\n",
      "  9.7 13.8 12.7 13.1 12.5  8.5  5.   6.3  5.6  7.2 12.1  8.3  8.5  5.\n",
      " 11.9 27.9 17.2 27.5 15.  17.2 17.9 16.3  7.   7.2  7.5 10.4  8.8  8.4\n",
      " 16.7 14.2 20.8 13.4 11.7  8.3 10.2 10.9 11.   9.5 14.5 14.1 16.1 14.3\n",
      " 11.7 13.4  9.6  8.7  8.4 12.8 10.5 17.1 18.4 15.4 10.8 11.8 14.9 12.6\n",
      " 14.1 13.  13.4 15.2 16.1 17.8 14.9 14.1 12.7 13.5 14.9 20.  16.4 17.7\n",
      " 19.5 20.2 21.4 19.9 19.  19.1 19.1 20.1 19.9 19.6 23.2 29.8 13.8 13.3\n",
      " 16.7 12.  14.6 21.4 23.  23.7 25.  21.8 20.6 21.2 19.1 20.6 15.2  7.\n",
      "  8.1 13.6 20.1 21.8 24.5 23.1 19.7 18.3 21.2 17.5 16.8 22.4 20.6 23.9\n",
      " 22.  11.9]\n",
      "获取特征名称:\n",
      " ['CRIM' 'ZN' 'INDUS' 'CHAS' 'NOX' 'RM' 'AGE' 'DIS' 'RAD' 'TAX' 'PTRATIO'\n",
      " 'B' 'LSTAT']\n"
     ]
    },
    {
     "name": "stderr",
     "output_type": "stream",
     "text": [
      "C:\\Users\\L\\AppData\\Local\\Programs\\Python\\Python310\\lib\\site-packages\\sklearn\\utils\\deprecation.py:87: FutureWarning: Function load_boston is deprecated; `load_boston` is deprecated in 1.0 and will be removed in 1.2.\n",
      "\n",
      "    The Boston housing prices dataset has an ethical problem. You can refer to\n",
      "    the documentation of this function for further details.\n",
      "\n",
      "    The scikit-learn maintainers therefore strongly discourage the use of this\n",
      "    dataset unless the purpose of the code is to study and educate about\n",
      "    ethical issues in data science and machine learning.\n",
      "\n",
      "    In this special case, you can fetch the dataset from the original\n",
      "    source::\n",
      "\n",
      "        import pandas as pd\n",
      "        import numpy as np\n",
      "\n",
      "        data_url = \"http://lib.stat.cmu.edu/datasets/boston\"\n",
      "        raw_df = pd.read_csv(data_url, sep=\"\\s+\", skiprows=22, header=None)\n",
      "        data = np.hstack([raw_df.values[::2, :], raw_df.values[1::2, :2]])\n",
      "        target = raw_df.values[1::2, 2]\n",
      "\n",
      "    Alternative datasets include the California housing dataset (i.e.\n",
      "    :func:`~sklearn.datasets.fetch_california_housing`) and the Ames housing\n",
      "    dataset. You can load the datasets as follows::\n",
      "\n",
      "        from sklearn.datasets import fetch_california_housing\n",
      "        housing = fetch_california_housing()\n",
      "\n",
      "    for the California housing dataset and::\n",
      "\n",
      "        from sklearn.datasets import fetch_openml\n",
      "        housing = fetch_openml(name=\"house_prices\", as_frame=True)\n",
      "\n",
      "    for the Ames housing dataset.\n",
      "  warnings.warn(msg, category=FutureWarning)\n"
     ]
    }
   ],
   "source": [
    "# 获取数据\n",
    "lb = load_boston()\n",
    "# 查看各种数据\n",
    "print('获取特征值:\\n', lb.data)\n",
    "print('获取目标值:\\n', lb.target)\n",
    "print('获取特征名称:\\n', lb.feature_names)"
   ],
   "metadata": {
    "collapsed": false,
    "pycharm": {
     "name": "#%%\n"
    }
   }
  },
  {
   "cell_type": "code",
   "execution_count": 24,
   "outputs": [
    {
     "name": "stdout",
     "output_type": "stream",
     "text": [
      "(379,)\n"
     ]
    }
   ],
   "source": [
    "# 分割数据集\n",
    "x_train, x_test, y_train, y_test = train_test_split(lb.data, lb.target, test_size=0.25, random_state=1)\n",
    "\n",
    "# 对数据集的特征值与目标值进行标准化统一度量\n",
    "std_x = StandardScaler()\n",
    "x_train = std_x.fit_transform(x_train)\n",
    "x_test = std_x.transform(x_test)\n",
    "\n",
    "std_y = StandardScaler()\n",
    "print(y_train.shape)\n",
    "# 由于fit_transform要求对象是二维的,而我们的目标值是一维,需要进行一个reshape\n",
    "# reshape(-1,1)的含义就是转为原数据长度的行与1列的二维数据\n",
    "y_train = std_y.fit_transform(y_train.reshape(-1, 1))\n",
    "y_test = std_y.transform(y_test.reshape(-1, 1))"
   ],
   "metadata": {
    "collapsed": false,
    "pycharm": {
     "name": "#%%\n"
    }
   }
  },
  {
   "cell_type": "code",
   "execution_count": 26,
   "outputs": [
    {
     "name": "stdout",
     "output_type": "stream",
     "text": [
      "回归系数: [[-0.12026411  0.15044778  0.02951803  0.07470354 -0.28043353  0.22170939\n",
      "   0.02190624 -0.35275513  0.29939558 -0.2028089  -0.23911894  0.06305081\n",
      "  -0.45259462]]\n",
      "正规方程测试集里面每个房子的预测价格：\n",
      " [[32.37816533]\n",
      " [27.95684437]\n",
      " [18.07213891]\n",
      " [21.63166556]\n",
      " [18.93029508]\n",
      " [19.96277202]\n",
      " [32.2834674 ]\n",
      " [18.06715668]\n",
      " [24.72989076]\n",
      " [26.85359369]\n",
      " [27.23326816]\n",
      " [28.57021239]\n",
      " [21.18778302]\n",
      " [26.94393815]\n",
      " [23.37892579]\n",
      " [20.89176865]\n",
      " [17.11746934]\n",
      " [37.73997945]\n",
      " [30.51980066]\n",
      " [ 8.44489436]\n",
      " [20.86557977]\n",
      " [16.21989418]\n",
      " [25.13605925]\n",
      " [24.77658813]\n",
      " [31.40497629]\n",
      " [11.02741407]\n",
      " [13.82097563]\n",
      " [16.80208261]\n",
      " [35.94637198]\n",
      " [14.7155729 ]\n",
      " [21.23939821]\n",
      " [14.15079469]\n",
      " [42.72492585]\n",
      " [17.83887162]\n",
      " [21.84610225]\n",
      " [20.40178099]\n",
      " [17.50287927]\n",
      " [27.00093206]\n",
      " [ 9.80760408]\n",
      " [20.00288662]\n",
      " [24.27066782]\n",
      " [21.06719021]\n",
      " [29.47089776]\n",
      " [16.48482565]\n",
      " [19.38852695]\n",
      " [14.54778282]\n",
      " [39.39838319]\n",
      " [18.09810655]\n",
      " [26.22164983]\n",
      " [20.60676525]\n",
      " [25.09994066]\n",
      " [24.48366723]\n",
      " [25.02297948]\n",
      " [26.84986898]\n",
      " [ 5.01517985]\n",
      " [24.12809513]\n",
      " [10.72843392]\n",
      " [26.83178157]\n",
      " [16.8023533 ]\n",
      " [35.48142073]\n",
      " [19.50937911]\n",
      " [27.43260347]\n",
      " [16.58016763]\n",
      " [19.151488  ]\n",
      " [10.9990262 ]\n",
      " [32.05016535]\n",
      " [36.32672849]\n",
      " [21.8596379 ]\n",
      " [24.8158357 ]\n",
      " [25.32934192]\n",
      " [23.36795453]\n",
      " [ 6.98356201]\n",
      " [16.83774771]\n",
      " [20.27043864]\n",
      " [20.74890857]\n",
      " [21.85918305]\n",
      " [34.17775836]\n",
      " [27.94673486]\n",
      " [24.86029952]\n",
      " [34.43415796]\n",
      " [18.61651831]\n",
      " [24.02302532]\n",
      " [34.45439496]\n",
      " [13.32264718]\n",
      " [20.7154011 ]\n",
      " [30.1583435 ]\n",
      " [17.06611728]\n",
      " [24.20119805]\n",
      " [19.18051951]\n",
      " [16.98160423]\n",
      " [26.8073424 ]\n",
      " [41.02666829]\n",
      " [14.44767989]\n",
      " [23.26993252]\n",
      " [14.93803206]\n",
      " [21.93017824]\n",
      " [22.81878103]\n",
      " [29.16467031]\n",
      " [36.7033389 ]\n",
      " [20.41387117]\n",
      " [17.86800518]\n",
      " [17.49942601]\n",
      " [25.07246443]\n",
      " [21.9827349 ]\n",
      " [ 8.28652561]\n",
      " [21.52177032]\n",
      " [16.50788716]\n",
      " [33.00114509]\n",
      " [24.49693379]\n",
      " [25.08491201]\n",
      " [38.29621948]\n",
      " [28.93273167]\n",
      " [14.85478187]\n",
      " [34.7429184 ]\n",
      " [35.50029467]\n",
      " [32.89599805]\n",
      " [20.98069467]\n",
      " [16.67849644]\n",
      " [34.24728954]\n",
      " [39.01179205]\n",
      " [21.57169864]\n",
      " [15.71337489]\n",
      " [27.33121768]\n",
      " [18.73350137]\n",
      " [27.27438226]\n",
      " [21.16402252]\n",
      " [26.00459084]]\n",
      "正规方程的均方误差： 0.2758842244225054\n"
     ]
    }
   ],
   "source": [
    "# estimator-评估器进行预测\n",
    "# 通过正规方程进行线性回归\n",
    "lr = LinearRegression()\n",
    "# fit,predict,评估好坏从准确率变为均方差,均方差越小说明拟合的越好\n",
    "lr.fit(x_train, y_train)\n",
    "\n",
    "# 查看回归系数,评估特征与目标之间的相关性\n",
    "print('回归系数:', lr.coef_)\n",
    "\n",
    "y_predict = lr.predict(x_test)\n",
    "# 此时评估得到的是标准化处理后的数据,可以用过inverse_transform得到实际房子价格预测\n",
    "y_lr_predict = std_y.inverse_transform(y_predict)\n",
    "# 保存训练好的模型,模型中保存的是预测的w值与所用的模型结构\n",
    "joblib.dump(lr, \"./tmp/test.pkl\")\n",
    "print(\"正规方程测试集里面每个房子的预测价格：\\n\", y_lr_predict)\n",
    "# 测试集上的损失\n",
    "print(\"正规方程的均方误差：\", mean_squared_error(y_test, y_predict))"
   ],
   "metadata": {
    "collapsed": false,
    "pycharm": {
     "name": "#%%\n"
    }
   }
  },
  {
   "cell_type": "markdown",
   "source": [
    "注意上面输出的均方误差是标准化后的数据,预测值与目标值的均方误差<br>\n",
    "要得到是房子价格的均方误差,要是用inverse_from后数据进行计算"
   ],
   "metadata": {
    "collapsed": false,
    "pycharm": {
     "name": "#%% md\n"
    }
   }
  },
  {
   "cell_type": "code",
   "execution_count": 28,
   "outputs": [
    {
     "name": "stdout",
     "output_type": "stream",
     "text": [
      "正规方程的均方误差： 0.2758842244225054\n",
      "房子价格实际的均方误差： 21.89776539604949\n"
     ]
    }
   ],
   "source": [
    "# 加载保存的模型练习以及计算实际房子价格均方误差\n",
    "model = joblib.load('./tmp/test.pkl')\n",
    "print(\"正规方程的均方误差：\", mean_squared_error(y_test, y_predict))\n",
    "print(\"房子价格实际的均方误差：\", mean_squared_error(std_y.inverse_transform(y_test),\n",
    "                                         std_y.inverse_transform(y_predict)))"
   ],
   "metadata": {
    "collapsed": false,
    "pycharm": {
     "name": "#%%\n"
    }
   }
  },
  {
   "cell_type": "markdown",
   "source": [
    "### 利用梯度下降取寻找最佳w值进行预测"
   ],
   "metadata": {
    "collapsed": false,
    "pycharm": {
     "name": "#%% md\n"
    }
   }
  },
  {
   "cell_type": "code",
   "execution_count": 32,
   "outputs": [
    {
     "name": "stdout",
     "output_type": "stream",
     "text": [
      "梯度下降的回归系数 [-0.08862077  0.07383654 -0.01991498  0.08008351 -0.16955852  0.27093474\n",
      "  0.         -0.24018851  0.09679906 -0.01853834 -0.22002831  0.0656138\n",
      " -0.42331052]\n",
      "(127,)\n",
      "梯度下降测试集里面每个房子的预测价格： [[30.15401847]\n",
      " [28.05865708]\n",
      " [18.15747402]\n",
      " [22.37419684]\n",
      " [18.64410312]\n",
      " [20.88503473]\n",
      " [29.89968201]\n",
      " [18.6240174 ]\n",
      " [23.82564061]\n",
      " [26.86122957]\n",
      " [26.53561614]\n",
      " [29.23085726]\n",
      " [21.59004752]\n",
      " [25.50839441]\n",
      " [22.96719372]\n",
      " [19.72695494]\n",
      " [17.30180168]\n",
      " [37.90589789]\n",
      " [29.57569127]\n",
      " [ 9.93875559]\n",
      " [20.85204256]\n",
      " [17.63096892]\n",
      " [25.36913841]\n",
      " [25.10677698]\n",
      " [30.18155048]\n",
      " [11.01656908]\n",
      " [14.45790257]\n",
      " [19.25534421]\n",
      " [35.65602813]\n",
      " [14.18790954]\n",
      " [23.71592045]\n",
      " [14.61310784]\n",
      " [40.30263706]\n",
      " [18.32577521]\n",
      " [24.05765884]\n",
      " [20.9654494 ]\n",
      " [17.91069116]\n",
      " [28.04590387]\n",
      " [ 8.33136065]\n",
      " [19.65432286]\n",
      " [26.33640301]\n",
      " [21.93066339]\n",
      " [28.62213342]\n",
      " [15.75157198]\n",
      " [18.82629821]\n",
      " [15.36251318]\n",
      " [39.91400373]\n",
      " [17.87806575]\n",
      " [25.90489542]\n",
      " [20.94655075]\n",
      " [25.01766154]\n",
      " [24.36572305]\n",
      " [25.57259802]\n",
      " [26.60710719]\n",
      " [ 7.59230794]\n",
      " [23.92346099]\n",
      " [10.84311272]\n",
      " [26.46124491]\n",
      " [17.51640203]\n",
      " [35.77877525]\n",
      " [19.69705747]\n",
      " [27.41593233]\n",
      " [16.12837547]\n",
      " [18.31740942]\n",
      " [10.98772301]\n",
      " [31.31137174]\n",
      " [36.70485248]\n",
      " [25.34489454]\n",
      " [24.43548353]\n",
      " [25.0131954 ]\n",
      " [24.03597197]\n",
      " [ 6.61131718]\n",
      " [15.84979605]\n",
      " [21.28175289]\n",
      " [20.83705818]\n",
      " [21.13910425]\n",
      " [33.35226519]\n",
      " [28.10566504]\n",
      " [26.64570131]\n",
      " [32.31173471]\n",
      " [19.47733669]\n",
      " [24.36632861]\n",
      " [34.3783525 ]\n",
      " [14.24284892]\n",
      " [22.95548498]\n",
      " [29.8032596 ]\n",
      " [17.4243254 ]\n",
      " [25.00060118]\n",
      " [19.72436886]\n",
      " [17.98832534]\n",
      " [27.10219874]\n",
      " [41.27635843]\n",
      " [17.20569666]\n",
      " [23.52135506]\n",
      " [15.51942506]\n",
      " [22.41138035]\n",
      " [23.31056383]\n",
      " [27.36873927]\n",
      " [36.58525557]\n",
      " [21.02756395]\n",
      " [16.89179331]\n",
      " [18.09691153]\n",
      " [25.33314624]\n",
      " [22.12736099]\n",
      " [ 8.17034421]\n",
      " [22.17710631]\n",
      " [15.25716304]\n",
      " [32.54954661]\n",
      " [23.65968264]\n",
      " [25.80141733]\n",
      " [37.820493  ]\n",
      " [28.28761141]\n",
      " [14.82894026]\n",
      " [32.79581395]\n",
      " [34.92380304]\n",
      " [33.70850761]\n",
      " [20.9261022 ]\n",
      " [17.01457244]\n",
      " [32.82246185]\n",
      " [38.90737895]\n",
      " [23.37761232]\n",
      " [16.40765455]\n",
      " [27.9665159 ]\n",
      " [19.2819336 ]\n",
      " [26.62399901]\n",
      " [21.61770216]\n",
      " [25.79917623]]\n",
      "梯度下降的均方误差： 0.27840268884693586\n",
      "梯度下降的原始房价量纲均方误差： 22.097663535350186\n"
     ]
    },
    {
     "name": "stderr",
     "output_type": "stream",
     "text": [
      "C:\\Users\\L\\AppData\\Local\\Programs\\Python\\Python310\\lib\\site-packages\\sklearn\\utils\\validation.py:1111: DataConversionWarning: A column-vector y was passed when a 1d array was expected. Please change the shape of y to (n_samples, ), for example using ravel().\n",
      "  y = column_or_1d(y, warn=True)\n"
     ]
    }
   ],
   "source": [
    "# 梯度下降去进行房价预测,数据量大要用这个\n",
    "# 默认可以去调 eta0 = 0.008，会改变learning_rate\n",
    "# learning_rate='optimal',alpha会影响学习率的值，由alpha来算学习率\n",
    "# penalty选择的是正则化的力度,也就是l1,l2正则化\n",
    "sgd = SGDRegressor(eta0=0.008,\n",
    "                   penalty='l1', alpha=0.005)\n",
    "# # 训练\n",
    "sgd.fit(x_train, y_train)\n",
    "#\n",
    "print('梯度下降的回归系数', sgd.coef_)\n",
    "#\n",
    "# 预测测试集的房子价格\n",
    "print(sgd.predict(x_test).shape)\n",
    "y_sgd_predict = std_y.inverse_transform(sgd.predict(x_test).reshape(-1, 1))\n",
    "y_predict = sgd.predict(x_test)\n",
    "print(\"梯度下降测试集里面每个房子的预测价格：\", y_sgd_predict)\n",
    "print(\"梯度下降的均方误差：\", mean_squared_error(y_test, y_predict))\n",
    "print(\"梯度下降的原始房价量纲均方误差：\", mean_squared_error(std_y.inverse_transform(y_test), y_sgd_predict))"
   ],
   "metadata": {
    "collapsed": false,
    "pycharm": {
     "name": "#%%\n"
    }
   }
  }
 ],
 "metadata": {
  "kernelspec": {
   "display_name": "Python 3",
   "language": "python",
   "name": "python3"
  },
  "language_info": {
   "codemirror_mode": {
    "name": "ipython",
    "version": 2
   },
   "file_extension": ".py",
   "mimetype": "text/x-python",
   "name": "python",
   "nbconvert_exporter": "python",
   "pygments_lexer": "ipython2",
   "version": "2.7.6"
  }
 },
 "nbformat": 4,
 "nbformat_minor": 0
}