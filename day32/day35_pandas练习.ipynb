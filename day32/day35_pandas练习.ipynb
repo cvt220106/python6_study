{
 "cells": [
  {
   "cell_type": "markdown",
   "metadata": {
    "collapsed": true,
    "pycharm": {
     "name": "#%% md\n"
    }
   },
   "source": [
    "1 iloc索引的使用"
   ]
  },
  {
   "cell_type": "code",
   "execution_count": 7,
   "outputs": [
    {
     "name": "stdout",
     "output_type": "stream",
     "text": [
      "0    10\n",
      "1    11\n",
      "2    12\n",
      "3    13\n",
      "4    14\n",
      "dtype: int64\n",
      "1    11\n",
      "2    12\n",
      "dtype: int64\n",
      "1    11\n",
      "2    12\n",
      "dtype: int64\n",
      "1    11\n",
      "3    13\n",
      "dtype: int64\n",
      "1    11\n",
      "3    13\n",
      "dtype: int64\n"
     ]
    }
   ],
   "source": [
    "import pandas as pd\n",
    "ser_obj=pd.Series(range(10,15))\n",
    "print(ser_obj)\n",
    "# 对于Series,切片索引与iloc效果相同\n",
    "# 连续\n",
    "print(ser_obj[1:3])\n",
    "print(ser_obj.iloc[1:3])\n",
    "# 不连续\n",
    "print(ser_obj[[1,3]])\n",
    "print(ser_obj.iloc[[1,3]])"
   ],
   "metadata": {
    "collapsed": false,
    "pycharm": {
     "name": "#%%\n"
    }
   }
  },
  {
   "cell_type": "code",
   "execution_count": 12,
   "outputs": [
    {
     "name": "stdout",
     "output_type": "stream",
     "text": [
      "          d         c         b         a\n",
      "a -0.645048  0.559375  0.071133 -0.335587\n",
      "b -0.650343  1.380415  1.438683  1.891946\n",
      "c -1.227779  0.824317 -1.495222 -0.990259\n",
      "d  0.338362 -0.467084 -0.351940 -0.569951\n",
      "e  0.610133 -0.087485  0.589481  0.245620\n",
      "          c         b\n",
      "b  1.380415  1.438683\n",
      "c  0.824317 -1.495222\n",
      "          c         b         a\n",
      "a  0.559375  0.071133 -0.335587\n",
      "b  1.380415  1.438683  1.891946\n",
      "c  0.824317 -1.495222 -0.990259\n",
      "d -0.467084 -0.351940 -0.569951\n",
      "e -0.087485  0.589481  0.245620\n",
      "          c         a\n",
      "a  0.559375 -0.335587\n",
      "b  1.380415  1.891946\n",
      "c  0.824317 -0.990259\n",
      "d -0.467084 -0.569951\n",
      "e -0.087485  0.245620\n"
     ]
    }
   ],
   "source": [
    "import numpy as np\n",
    "df_obj=pd.DataFrame(np.random.randn(5,4),\n",
    "                    columns = list('dcba'),\n",
    "                    index=list('abcde'))\n",
    "print(df_obj)\n",
    "# iloc是左闭右开\n",
    "print(df_obj.iloc[1:3,1:3])\n",
    "print(df_obj.iloc[:,1:4])\n",
    "# 不连续\n",
    "print(df_obj.iloc[:,[1,3]])"
   ],
   "metadata": {
    "collapsed": false,
    "pycharm": {
     "name": "#%%\n"
    }
   }
  },
  {
   "cell_type": "markdown",
   "source": [
    "2 对齐运算"
   ],
   "metadata": {
    "collapsed": false,
    "pycharm": {
     "name": "#%% md\n"
    }
   }
  },
  {
   "cell_type": "code",
   "execution_count": 16,
   "outputs": [
    {
     "name": "stdout",
     "output_type": "stream",
     "text": [
      "0    10\n",
      "1    11\n",
      "2    12\n",
      "3    13\n",
      "4    14\n",
      "5    15\n",
      "6    16\n",
      "7    17\n",
      "8    18\n",
      "9    19\n",
      "dtype: int64\n",
      "0    10\n",
      "1    11\n",
      "2    12\n",
      "3    13\n",
      "4    14\n",
      "dtype: int64\n",
      "--------------------------------------------------\n",
      "---对齐运算----\n",
      "0    20.0\n",
      "1    22.0\n",
      "2    24.0\n",
      "3    26.0\n",
      "4    28.0\n",
      "5     NaN\n",
      "6     NaN\n",
      "7     NaN\n",
      "8     NaN\n",
      "9     NaN\n",
      "dtype: float64\n",
      "0    20.0\n",
      "1    22.0\n",
      "2    24.0\n",
      "3    26.0\n",
      "4    28.0\n",
      "5    15.0\n",
      "6    16.0\n",
      "7    17.0\n",
      "8    18.0\n",
      "9    19.0\n",
      "dtype: float64\n"
     ]
    }
   ],
   "source": [
    "s1=pd.Series(range(10,20))\n",
    "s2=pd.Series(range(10,15))\n",
    "print(s1)\n",
    "print(s2)\n",
    "print('-'*50)\n",
    "print('---对齐运算----')\n",
    "# 空位默认至nan,运算后,对应位置仍为nan\n",
    "print(s1+s2)\n",
    "# 使用padas自带的add方法,设定fill_value来指定对空位的填补值\n",
    "print(s1.add(s2,fill_value=0))\n",
    "# 运算后dtype由int64转为float64,空位填补的缘故所在"
   ],
   "metadata": {
    "collapsed": false,
    "pycharm": {
     "name": "#%%\n"
    }
   }
  },
  {
   "cell_type": "code",
   "execution_count": 20,
   "outputs": [
    {
     "name": "stdout",
     "output_type": "stream",
     "text": [
      "     a    b\n",
      "0  1.0  1.0\n",
      "1  1.0  1.0\n",
      "     a    b    c\n",
      "0  1.0  1.0  1.0\n",
      "1  1.0  1.0  1.0\n",
      "2  1.0  1.0  1.0\n",
      "     a    b   c\n",
      "0  0.0  0.0 NaN\n",
      "1  0.0  0.0 NaN\n",
      "2  NaN  NaN NaN\n",
      "     a    b    c\n",
      "0  0.0  0.0  1.0\n",
      "1  0.0  0.0  1.0\n",
      "2  1.0  1.0  1.0\n",
      "     a    b    c\n",
      "0  2.0  2.0  1.0\n",
      "1  2.0  2.0  1.0\n",
      "2  1.0  1.0  1.0\n"
     ]
    }
   ],
   "source": [
    "df1 = pd.DataFrame(np.ones((2,2)), columns = ['a', 'b'])\n",
    "df2 = pd.DataFrame(np.ones((3,3)), columns = ['a', 'b', 'c'])\n",
    "print(df1)\n",
    "print(df2)\n",
    "print(df2-df1)\n",
    "print(df2.sub(df1,fill_value=0))\n",
    "print(df2.add(df1,fill_value=0))"
   ],
   "metadata": {
    "collapsed": false,
    "pycharm": {
     "name": "#%%\n"
    }
   }
  },
  {
   "cell_type": "markdown",
   "source": [
    "3 使用apply和applymap"
   ],
   "metadata": {
    "collapsed": false,
    "pycharm": {
     "name": "#%% md\n"
    }
   }
  },
  {
   "cell_type": "code",
   "execution_count": 26,
   "outputs": [
    {
     "name": "stdout",
     "output_type": "stream",
     "text": [
      "          0         1         2         3\n",
      "0 -1.401757  0.485250 -0.207846  1.130002\n",
      "1 -0.247113  1.062433 -0.716560  0.442037\n",
      "2  0.428540  0.362758  1.099359  0.074602\n",
      "3 -0.159692 -0.938323  0.698422 -1.149591\n",
      "4  1.481602 -1.702634  0.875376  0.027397\n",
      "0    1.481602\n",
      "1    1.062433\n",
      "2    1.099359\n",
      "3    1.130002\n",
      "dtype: float64\n",
      "0   -1.401757\n",
      "1   -1.702634\n",
      "2   -0.716560\n",
      "3   -1.149591\n",
      "dtype: float64\n"
     ]
    }
   ],
   "source": [
    "df = pd.DataFrame(np.random.randn(5,4))\n",
    "# apply将一个计算应用到所有,默认求列\n",
    "print(df)\n",
    "print(df.apply(lambda x : x.max()))\n",
    "print(df.apply(lambda x : x.min()))"
   ],
   "metadata": {
    "collapsed": false,
    "pycharm": {
     "name": "#%%\n"
    }
   }
  },
  {
   "cell_type": "code",
   "execution_count": 27,
   "outputs": [
    {
     "name": "stdout",
     "output_type": "stream",
     "text": [
      "          0         1         2         3\n",
      "0 -1.401757  0.485250 -0.207846  1.130002\n",
      "1 -0.247113  1.062433 -0.716560  0.442037\n",
      "2  0.428540  0.362758  1.099359  0.074602\n",
      "3 -0.159692 -0.938323  0.698422 -1.149591\n",
      "4  1.481602 -1.702634  0.875376  0.027397\n",
      "0    1.130002\n",
      "1    1.062433\n",
      "2    1.099359\n",
      "3    0.698422\n",
      "4    1.481602\n",
      "dtype: float64\n",
      "0   -1.401757\n",
      "1   -0.716560\n",
      "2    0.074602\n",
      "3   -1.149591\n",
      "4   -1.702634\n",
      "dtype: float64\n"
     ]
    }
   ],
   "source": [
    "#apply作用在行上\n",
    "print(df)\n",
    "print(df.apply(lambda x : x.max(), axis=1))\n",
    "print(df.apply(lambda x : x.min(), axis=1))"
   ],
   "metadata": {
    "collapsed": false,
    "pycharm": {
     "name": "#%%\n"
    }
   }
  },
  {
   "cell_type": "code",
   "execution_count": 25,
   "outputs": [
    {
     "name": "stdout",
     "output_type": "stream",
     "text": [
      "          0         1         2         3\n",
      "0 -0.360456 -1.394274 -1.124537 -1.387075\n",
      "1  0.089309  0.837703 -0.747621  0.783675\n",
      "2 -0.546141 -1.328510 -0.115747 -0.255823\n",
      "3  0.038393  0.187356  0.500691  0.469868\n",
      "4 -1.227689  0.388899  0.281719 -1.758471\n",
      "       0      1      2      3\n",
      "0  -0.36  -1.39  -1.12  -1.39\n",
      "1   0.09   0.84  -0.75   0.78\n",
      "2  -0.55  -1.33  -0.12  -0.26\n",
      "3   0.04   0.19   0.50   0.47\n",
      "4  -1.23   0.39   0.28  -1.76\n"
     ]
    },
    {
     "data": {
      "text/plain": "0    float64\n1    float64\n2    float64\n3    float64\ndtype: object"
     },
     "execution_count": 25,
     "metadata": {},
     "output_type": "execute_result"
    }
   ],
   "source": [
    "# 使用applymap应用到每个数据\n",
    "print(df)\n",
    "print(df.applymap(lambda x : '%.2f' % x))\n",
    "df.dtypes"
   ],
   "metadata": {
    "collapsed": false,
    "pycharm": {
     "name": "#%%\n"
    }
   }
  },
  {
   "cell_type": "markdown",
   "source": [
    "4 对series和df进行按索引排序，按值排序"
   ],
   "metadata": {
    "collapsed": false,
    "pycharm": {
     "name": "#%% md\n"
    }
   }
  },
  {
   "cell_type": "code",
   "execution_count": 31,
   "outputs": [
    {
     "name": "stdout",
     "output_type": "stream",
     "text": [
      "4    10\n",
      "2    11\n",
      "1    12\n",
      "3    13\n",
      "1    14\n",
      "dtype: int64\n",
      "1    12\n",
      "1    14\n",
      "2    11\n",
      "3    13\n",
      "4    10\n",
      "dtype: int64\n",
      "4    10\n",
      "2    11\n",
      "1    12\n",
      "3    13\n",
      "1    14\n",
      "dtype: int64\n",
      "4    10\n",
      "2    11\n",
      "1    12\n",
      "dtype: int64\n",
      "4    10\n",
      "2    11\n",
      "1    12\n",
      "3    13\n",
      "1    14\n",
      "dtype: int64\n"
     ]
    }
   ],
   "source": [
    "# Series\n",
    "s4 = pd.Series(range(10, 15), index = np.random.randint(5, size=5))\n",
    "print(s4)\n",
    "\n",
    "# 索引排序,sort_index返回一个新的排好索引的series\n",
    "print(s4.sort_index())\n",
    "print(s4) # 原对象未改变\n",
    "# 设定索引后,仍可以用iloc与切片进行索引,但不可以用loc,因为index值并不唯一\n",
    "print(s4.iloc[0:3])\n",
    "s4[0:3]  #默认用的位置索引\n",
    "# 按值排序\n",
    "print(s4.sort_values())"
   ],
   "metadata": {
    "collapsed": false,
    "pycharm": {
     "name": "#%%\n"
    }
   }
  },
  {
   "cell_type": "code",
   "execution_count": 29,
   "outputs": [
    {
     "name": "stdout",
     "output_type": "stream",
     "text": [
      "          0         1         3         3         3\n",
      "0 -0.084820  0.780602  0.626419 -1.580882  0.707254\n",
      "3  0.802423  0.252576  0.829731 -0.670290 -0.075457\n",
      "0 -1.494239 -1.699673  0.514283 -0.096885 -0.004610\n",
      "3 -0.528591  1.138616  0.654720 -0.408526 -1.068302\n",
      "3 -0.043488  0.214707 -0.360127 -0.369138 -0.835935\n",
      "          0         1         3         3         3\n",
      "3  0.802423  0.252576  0.829731 -0.670290 -0.075457\n",
      "3 -0.528591  1.138616  0.654720 -0.408526 -1.068302\n",
      "3 -0.043488  0.214707 -0.360127 -0.369138 -0.835935\n",
      "0 -0.084820  0.780602  0.626419 -1.580882  0.707254\n",
      "0 -1.494239 -1.699673  0.514283 -0.096885 -0.004610\n",
      "          3         3         3         1         0\n",
      "0  0.626419 -1.580882  0.707254  0.780602 -0.084820\n",
      "3  0.829731 -0.670290 -0.075457  0.252576  0.802423\n",
      "0  0.514283 -0.096885 -0.004610 -1.699673 -1.494239\n",
      "3  0.654720 -0.408526 -1.068302  1.138616 -0.528591\n",
      "3 -0.360127 -0.369138 -0.835935  0.214707 -0.043488\n"
     ]
    }
   ],
   "source": [
    "# DataFrame\n",
    "df4 = pd.DataFrame(np.random.randn(5, 5),\n",
    "                   index=np.random.randint(5, size=5),\n",
    "                   columns=np.random.randint(5, size=5))\n",
    "print(df4)\n",
    "#轴零是行索引排序,ascending控制升序降序,默认升序\n",
    "df4_isort = df4.sort_index(axis=0, ascending=False)\n",
    "print(df4_isort)\n",
    "#轴1是列索引排序\n",
    "df4_isort = df4.sort_index(axis=1, ascending=False)\n",
    "print(df4_isort)"
   ],
   "metadata": {
    "collapsed": false,
    "pycharm": {
     "name": "#%%\n"
    }
   }
  },
  {
   "cell_type": "code",
   "execution_count": 34,
   "outputs": [
    {
     "name": "stdout",
     "output_type": "stream",
     "text": [
      "[[29 53 20 76]\n",
      " [47 37 15 64]\n",
      " [80 48 97 43]\n",
      " [86 96 91 81]\n",
      " [43 36 76 83]\n",
      " [61 18 36 46]]\n",
      "--------------------------------------------------\n",
      "    0   1   2   3\n",
      "0  29  53  20  76\n",
      "1  47  37  15  64\n",
      "2  80  48  97  43\n",
      "3  86  96  91  81\n",
      "4  43  36  76  83\n",
      "5  61  18  36  46\n",
      "--------------------------------------------------\n",
      "    0   1   2   3\n",
      "4  43  36  76  83\n",
      "3  86  96  91  81\n",
      "0  29  53  20  76\n",
      "1  47  37  15  64\n",
      "5  61  18  36  46\n",
      "2  80  48  97  43\n",
      "    1   2   0   3\n",
      "0  53  20  29  76\n",
      "1  37  15  47  64\n",
      "2  48  97  80  43\n",
      "3  96  91  86  81\n",
      "4  36  76  43  83\n",
      "5  18  36  61  46\n"
     ]
    }
   ],
   "source": [
    "# 按值排序,by后是column的值\n",
    "import random\n",
    "l=[random.randint(0,100) for i in range(24)]\n",
    "df4 = pd.DataFrame(np.array(l).reshape(6,4))\n",
    "print(df4.values)\n",
    "print('-'*50)\n",
    "print(df4)\n",
    "print('-'*50)\n",
    "#按轴零排序，by后是列名\n",
    "df4_vsort = df4.sort_values(by=3,axis=0, ascending=False) #寻找的是columns里的3\n",
    "print(df4_vsort)\n",
    "#按轴1排序，by后行索引名\n",
    "df4_vsort = df4.sort_values(by=3,axis=1, ascending=False) #寻找的是index里的3\n",
    "print(df4_vsort)"
   ],
   "metadata": {
    "collapsed": false,
    "pycharm": {
     "name": "#%%\n"
    }
   }
  },
  {
   "cell_type": "markdown",
   "source": [
    "5 缺失数据处理方法"
   ],
   "metadata": {
    "collapsed": false
   }
  },
  {
   "cell_type": "code",
   "execution_count": 35,
   "outputs": [
    {
     "name": "stdout",
     "output_type": "stream",
     "text": [
      "          0         1         2\n",
      "0  0.323127  0.487345 -1.071798\n",
      "1  1.000000  2.000000       NaN\n",
      "2       NaN  4.000000       NaN\n",
      "3  1.000000  2.000000  3.000000\n"
     ]
    }
   ],
   "source": [
    "df_data = pd.DataFrame([np.random.randn(3), [1., 2., np.nan],\n",
    "                       [np.nan, 4., np.nan], [1., 2., 3.]])\n",
    "print(df_data.head())"
   ],
   "metadata": {
    "collapsed": false,
    "pycharm": {
     "name": "#%%\n"
    }
   }
  },
  {
   "cell_type": "code",
   "execution_count": 36,
   "outputs": [
    {
     "name": "stdout",
     "output_type": "stream",
     "text": [
      "       0      1      2\n",
      "0  False  False  False\n",
      "1  False  False   True\n",
      "2   True  False   True\n",
      "3  False  False  False\n"
     ]
    }
   ],
   "source": [
    "# isnull来判断是否有空的数据\n",
    "print(df_data.isnull())"
   ],
   "metadata": {
    "collapsed": false,
    "pycharm": {
     "name": "#%%\n"
    }
   }
  },
  {
   "cell_type": "code",
   "execution_count": 37,
   "outputs": [
    {
     "name": "stdout",
     "output_type": "stream",
     "text": [
      "          0         1         2\n",
      "0  0.323127  0.487345 -1.071798\n",
      "3  1.000000  2.000000  3.000000\n"
     ]
    }
   ],
   "source": [
    "# dropna默认某行有nan就删除该行\n",
    "print(df_data.dropna())"
   ],
   "metadata": {
    "collapsed": false,
    "pycharm": {
     "name": "#%%\n"
    }
   }
  },
  {
   "cell_type": "code",
   "execution_count": 38,
   "outputs": [
    {
     "name": "stdout",
     "output_type": "stream",
     "text": [
      "          1\n",
      "0  0.487345\n",
      "1  2.000000\n",
      "2  4.000000\n",
      "3  2.000000\n"
     ]
    }
   ],
   "source": [
    "# 某个特征column空值太多时使用\n",
    "print(df_data.dropna(axis=1))  #某列有nan就删除该列"
   ],
   "metadata": {
    "collapsed": false,
    "pycharm": {
     "name": "#%%\n"
    }
   }
  },
  {
   "cell_type": "code",
   "execution_count": 39,
   "outputs": [
    {
     "name": "stdout",
     "output_type": "stream",
     "text": [
      "          0         1         2\n",
      "0  1.214743 -0.205925  0.095595\n",
      "3  1.000000  2.000000  3.000000\n"
     ]
    }
   ],
   "source": [
    "# inplace测试,为True则原地删除改变\n",
    "test_data=pd.DataFrame([np.random.randn(3), [1., 2., np.nan],\n",
    "                       [np.nan, 4., np.nan], [1., 2., 3.]])\n",
    "test_data.dropna(inplace=True)\n",
    "print(test_data)"
   ],
   "metadata": {
    "collapsed": false,
    "pycharm": {
     "name": "#%%\n"
    }
   }
  },
  {
   "cell_type": "code",
   "execution_count": 40,
   "outputs": [
    {
     "name": "stdout",
     "output_type": "stream",
     "text": [
      "0      0.323127\n",
      "1      1.000000\n",
      "2   -100.000000\n",
      "3      1.000000\n",
      "Name: 0, dtype: float64\n"
     ]
    }
   ],
   "source": [
    "#给零列的空值填为-100\n",
    "print(df_data.iloc[:,0].fillna(-100.))"
   ],
   "metadata": {
    "collapsed": false,
    "pycharm": {
     "name": "#%%\n"
    }
   }
  },
  {
   "cell_type": "code",
   "execution_count": 42,
   "outputs": [
    {
     "name": "stdout",
     "output_type": "stream",
     "text": [
      "0\n",
      "0     0.323127\n",
      "1     1.000000\n",
      "2    99.000000\n",
      "3     1.000000\n",
      "Name: 0, dtype: float64\n",
      "1\n",
      "0    0.487345\n",
      "1    2.000000\n",
      "2    4.000000\n",
      "3    2.000000\n",
      "Name: 1, dtype: float64\n",
      "2\n",
      "0    -1.071798\n",
      "1    99.000000\n",
      "2    99.000000\n",
      "3     3.000000\n",
      "Name: 2, dtype: float64\n"
     ]
    }
   ],
   "source": [
    "# 依次拿到每一列,columns得到的是列名,非索引值\n",
    "# 再对每一列的nan改为99\n",
    "for i in df_data.columns:\n",
    "    print(i)\n",
    "    print(df_data.loc[:,i].fillna(99.))"
   ],
   "metadata": {
    "collapsed": false,
    "pycharm": {
     "name": "#%%\n"
    }
   }
  },
  {
   "cell_type": "markdown",
   "source": [
    "6 层级索引（hierarchical indexing）"
   ],
   "metadata": {
    "collapsed": false
   }
  },
  {
   "cell_type": "code",
   "execution_count": 43,
   "outputs": [
    {
     "name": "stdout",
     "output_type": "stream",
     "text": [
      "cloth  size\n",
      "a      0      -0.405727\n",
      "       1       0.182779\n",
      "       2       0.024131\n",
      "b      0      -0.864360\n",
      "       1      -0.347575\n",
      "       2       0.081265\n",
      "c      0       1.237891\n",
      "       1      -0.475260\n",
      "       2      -0.510027\n",
      "d      0       0.668664\n",
      "       1       0.171535\n",
      "       2      -0.622929\n",
      "dtype: float64\n",
      "<class 'pandas.core.series.Series'>\n",
      "<class 'pandas.core.indexes.multi.MultiIndex'>\n",
      "MultiIndex([('a', 0),\n",
      "            ('a', 1),\n",
      "            ('a', 2),\n",
      "            ('b', 0),\n",
      "            ('b', 1),\n",
      "            ('b', 2),\n",
      "            ('c', 0),\n",
      "            ('c', 1),\n",
      "            ('c', 2),\n",
      "            ('d', 0),\n",
      "            ('d', 1),\n",
      "            ('d', 2)],\n",
      "           names=['cloth', 'size'])\n",
      "[['a', 'b', 'c', 'd'], [0, 1, 2]]\n"
     ]
    },
    {
     "data": {
      "text/plain": "FrozenList([[0, 0, 0, 1, 1, 1, 2, 2, 2, 3, 3, 3], [0, 1, 2, 0, 1, 2, 0, 1, 2, 0, 1, 2]])"
     },
     "execution_count": 43,
     "metadata": {},
     "output_type": "execute_result"
    }
   ],
   "source": [
    "import pandas as pd\n",
    "import numpy as np\n",
    "\n",
    "#MultiIndex是层级索引，索引类型的一种\n",
    "index1 = pd.MultiIndex.from_arrays([['a', 'a', 'a', 'b', 'b', 'b', 'c', 'c', 'c', 'd', 'd', 'd'],\n",
    "                [0, 1, 2, 0, 1, 2, 0, 1, 2, 0, 1, 2]], names=['cloth', 'size'])\n",
    "\n",
    "\n",
    "ser_obj = pd.Series(np.random.randn(12),index=index1)\n",
    "print(ser_obj)\n",
    "print(type(ser_obj))\n",
    "print(type(ser_obj.index))\n",
    "print(ser_obj.index)\n",
    "print(ser_obj.index.levels)"
   ],
   "metadata": {
    "collapsed": false,
    "pycharm": {
     "name": "#%%\n"
    }
   }
  },
  {
   "cell_type": "code",
   "execution_count": 44,
   "outputs": [
    {
     "name": "stdout",
     "output_type": "stream",
     "text": [
      "cloth  size\n",
      "a      0      -0.405727\n",
      "       1       0.182779\n",
      "       2       0.024131\n",
      "b      0      -0.864360\n",
      "       1      -0.347575\n",
      "       2       0.081265\n",
      "c      0       1.237891\n",
      "       1      -0.475260\n",
      "       2      -0.510027\n",
      "d      0       0.668664\n",
      "       1       0.171535\n",
      "       2      -0.622929\n",
      "dtype: float64\n",
      "--------------------------------------------------\n",
      "size\n",
      "0    1.237891\n",
      "1   -0.475260\n",
      "2   -0.510027\n",
      "dtype: float64\n",
      "--------------------------------------------------\n",
      "0.02413148302437681\n",
      "--------------------------------------------------\n",
      "cloth\n",
      "a    0.024131\n",
      "b    0.081265\n",
      "c   -0.510027\n",
      "d   -0.622929\n",
      "dtype: float64\n"
     ]
    }
   ],
   "source": [
    "#层级索引如何取数据\n",
    "print(ser_obj)\n",
    "print('-'*50)\n",
    "# 获取所有cloth索引为c的数据\n",
    "print(ser_obj['c'])\n",
    "print('-'*50)\n",
    "print(ser_obj['a', 2])\n",
    "print('-'*50)\n",
    "# 获取所有size索引为2的数据\n",
    "print(ser_obj[:, 2])"
   ],
   "metadata": {
    "collapsed": false,
    "pycharm": {
     "name": "#%%\n"
    }
   }
  },
  {
   "cell_type": "code",
   "execution_count": 45,
   "outputs": [
    {
     "name": "stdout",
     "output_type": "stream",
     "text": [
      "size  cloth\n",
      "0     a       -0.405727\n",
      "1     a        0.182779\n",
      "2     a        0.024131\n",
      "0     b       -0.864360\n",
      "1     b       -0.347575\n",
      "2     b        0.081265\n",
      "0     c        1.237891\n",
      "1     c       -0.475260\n",
      "2     c       -0.510027\n",
      "0     d        0.668664\n",
      "1     d        0.171535\n",
      "2     d       -0.622929\n",
      "dtype: float64\n",
      "--------------------------------------------------\n",
      "cloth  size\n",
      "a      0      -0.405727\n",
      "       1       0.182779\n",
      "       2       0.024131\n",
      "b      0      -0.864360\n",
      "       1      -0.347575\n",
      "       2       0.081265\n",
      "c      0       1.237891\n",
      "       1      -0.475260\n",
      "       2      -0.510027\n",
      "d      0       0.668664\n",
      "       1       0.171535\n",
      "       2      -0.622929\n",
      "dtype: float64\n",
      "--------------------------------------------------\n"
     ]
    }
   ],
   "source": [
    "#交换层级\n",
    "# 得到一个新的对象\n",
    "print(ser_obj.swaplevel())\n",
    "print('-'*50)\n",
    "# 原对象并未发生改变\n",
    "print(ser_obj)\n",
    "print('-'* 50)"
   ],
   "metadata": {
    "collapsed": false,
    "pycharm": {
     "name": "#%%\n"
    }
   }
  },
  {
   "cell_type": "code",
   "execution_count": 55,
   "outputs": [
    {
     "name": "stdout",
     "output_type": "stream",
     "text": [
      "cloth  size\n",
      "a      0      -0.405727\n",
      "       1       0.182779\n",
      "       2       0.024131\n",
      "b      0      -0.864360\n",
      "       1      -0.347575\n",
      "       2       0.081265\n",
      "c      0       1.237891\n",
      "       1      -0.475260\n",
      "       2      -0.510027\n",
      "d      0       0.668664\n",
      "       1       0.171535\n",
      "       2      -0.622929\n",
      "dtype: float64\n",
      "cloth  size\n",
      "a      0      -0.405727\n",
      "       1       0.182779\n",
      "       2       0.024131\n",
      "b      0      -0.864360\n",
      "       1      -0.347575\n",
      "       2       0.081265\n",
      "c      0       1.237891\n",
      "       1      -0.475260\n",
      "       2      -0.510027\n",
      "d      0       0.668664\n",
      "       1       0.171535\n",
      "       2      -0.622929\n",
      "dtype: float64\n",
      "cloth         a         b         c         d\n",
      "size                                         \n",
      "0     -0.405727 -0.864360  1.237891  0.668664\n",
      "1      0.182779 -0.347575 -0.475260  0.171535\n",
      "2      0.024131  0.081265 -0.510027 -0.622929\n"
     ]
    }
   ],
   "source": [
    "ser_obj=ser_obj.swaplevel()\n",
    "print(ser_obj)\n",
    "# level=0即按照第一层索引级别\n",
    "print(ser_obj.sort_index(level=0))  #层级索引按那个索引级别排序\n",
    "#把0索引（最外层索引）变为列索引\n",
    "# 默认-1,即内层索引\n",
    "df_obj=ser_obj.unstack(0)  #unstack可以放索引名，或者索引位置\n",
    "print(df_obj)\n"
   ],
   "metadata": {
    "collapsed": false,
    "pycharm": {
     "name": "#%%\n"
    }
   }
  },
  {
   "cell_type": "code",
   "execution_count": 54,
   "outputs": [
    {
     "data": {
      "text/plain": "cloth  size\na      0      -0.405727\n       1       0.182779\n       2       0.024131\nb      0      -0.864360\n       1      -0.347575\n       2       0.081265\nc      0       1.237891\n       1      -0.475260\n       2      -0.510027\nd      0       0.668664\n       1       0.171535\n       2      -0.622929\ndtype: float64"
     },
     "execution_count": 54,
     "metadata": {},
     "output_type": "execute_result"
    }
   ],
   "source": [
    "#对df进行stack，就会把行，列索引进行堆叠，变为series\n",
    "df_obj.stack()  #stack变为series和unstack保持一致的"
   ],
   "metadata": {
    "collapsed": false,
    "pycharm": {
     "name": "#%%\n"
    }
   }
  },
  {
   "cell_type": "markdown",
   "source": [
    "7 Pandas统计计算和描述"
   ],
   "metadata": {
    "collapsed": false
   }
  },
  {
   "cell_type": "code",
   "execution_count": 56,
   "outputs": [
    {
     "name": "stdout",
     "output_type": "stream",
     "text": [
      "cloth         a         b         c         d\n",
      "size                                         \n",
      "0     -0.405727 -0.864360  1.237891  0.668664\n",
      "1      0.182779 -0.347575 -0.475260  0.171535\n",
      "2      0.024131  0.081265 -0.510027 -0.622929\n",
      "cloth         a         b         c         d\n",
      "size                                         \n",
      "0     -0.405727       NaN  1.237891  0.668664\n",
      "1      0.182779 -0.347575 -0.475260  0.171535\n",
      "2      0.024131  0.081265 -0.510027 -0.622929\n",
      "--------------------------------------------------\n",
      "cloth\n",
      "a   -0.405727\n",
      "b   -0.347575\n",
      "c   -0.510027\n",
      "d   -0.622929\n",
      "dtype: float64\n",
      "--------------------------------------------------\n",
      "cloth         a         b         c         d\n",
      "count  3.000000  2.000000  3.000000  3.000000\n",
      "mean  -0.066272 -0.133155  0.084202  0.072423\n",
      "std    0.304491  0.303235  0.999276  0.651476\n",
      "min   -0.405727 -0.347575 -0.510027 -0.622929\n",
      "25%   -0.190798 -0.240365 -0.492643 -0.225697\n",
      "50%    0.024131 -0.133155 -0.475260  0.171535\n",
      "75%    0.103455 -0.025945  0.381316  0.420100\n",
      "max    0.182779  0.081265  1.237891  0.668664\n"
     ]
    }
   ],
   "source": [
    "print(df_obj)\n",
    "df_obj.loc[0,'b']=np.nan\n",
    "print(df_obj)\n",
    "print('-'*50)\n",
    "print(df_obj.min(axis=0, skipna=True))\n",
    "print('-'*50)\n",
    "print(df_obj.describe())  #观察数据分布的一种方法"
   ],
   "metadata": {
    "collapsed": false,
    "pycharm": {
     "name": "#%%\n"
    }
   }
  },
  {
   "cell_type": "code",
   "execution_count": 57,
   "outputs": [
    {
     "data": {
      "text/plain": "size\n0    1.237891\n1   -0.475260\n2   -0.510027\nName: c, dtype: float64"
     },
     "execution_count": 57,
     "metadata": {},
     "output_type": "execute_result"
    }
   ],
   "source": [
    "df_obj.loc[:,'c']"
   ],
   "metadata": {
    "collapsed": false,
    "pycharm": {
     "name": "#%%\n"
    }
   }
  },
  {
   "cell_type": "code",
   "execution_count": 58,
   "outputs": [
    {
     "name": "stdout",
     "output_type": "stream",
     "text": [
      "2\n"
     ]
    }
   ],
   "source": [
    "#计算最小值或者最大值的索引的位置\n",
    "print(df_obj.loc[:,'c'].argmin())#argmin和argmax只能是series，不能是df\n"
   ],
   "metadata": {
    "collapsed": false,
    "pycharm": {
     "name": "#%%\n"
    }
   }
  },
  {
   "cell_type": "code",
   "execution_count": 59,
   "outputs": [
    {
     "data": {
      "text/plain": "size\n0    c\n1    a\n2    b\ndtype: object"
     },
     "execution_count": 59,
     "metadata": {},
     "output_type": "execute_result"
    }
   ],
   "source": [
    "#返回的是一个series\n",
    "df_obj.idxmin(axis=1)  #计算最小值或者最大值的索引值\n",
    "df_obj.idxmax(axis=1)  #计算最小值或者最大值的索引值"
   ],
   "metadata": {
    "collapsed": false,
    "pycharm": {
     "name": "#%%\n"
    }
   }
  },
  {
   "cell_type": "markdown",
   "source": [
    "电影数据分析"
   ],
   "metadata": {
    "collapsed": false,
    "pycharm": {
     "name": "#%% md\n"
    }
   }
  },
  {
   "cell_type": "code",
   "execution_count": 60,
   "outputs": [
    {
     "name": "stdout",
     "output_type": "stream",
     "text": [
      "     Rank                    Title                     Genre  \\\n",
      "0       1  Guardians of the Galaxy   Action,Adventure,Sci-Fi   \n",
      "1       2               Prometheus  Adventure,Mystery,Sci-Fi   \n",
      "2       3                    Split           Horror,Thriller   \n",
      "3       4                     Sing   Animation,Comedy,Family   \n",
      "4       5            Suicide Squad  Action,Adventure,Fantasy   \n",
      "..    ...                      ...                       ...   \n",
      "995   996     Secret in Their Eyes       Crime,Drama,Mystery   \n",
      "996   997          Hostel: Part II                    Horror   \n",
      "997   998   Step Up 2: The Streets       Drama,Music,Romance   \n",
      "998   999             Search Party          Adventure,Comedy   \n",
      "999  1000               Nine Lives     Comedy,Family,Fantasy   \n",
      "\n",
      "                                           Description              Director  \\\n",
      "0    A group of intergalactic criminals are forced ...            James Gunn   \n",
      "1    Following clues to the origin of mankind, a te...          Ridley Scott   \n",
      "2    Three girls are kidnapped by a man with a diag...    M. Night Shyamalan   \n",
      "3    In a city of humanoid animals, a hustling thea...  Christophe Lourdelet   \n",
      "4    A secret government agency recruits some of th...            David Ayer   \n",
      "..                                                 ...                   ...   \n",
      "995  A tight-knit team of rising investigators, alo...             Billy Ray   \n",
      "996  Three American college students studying abroa...              Eli Roth   \n",
      "997  Romantic sparks occur between two dance studen...            Jon M. Chu   \n",
      "998  A pair of friends embark on a mission to reuni...        Scot Armstrong   \n",
      "999  A stuffy businessman finds himself trapped ins...      Barry Sonnenfeld   \n",
      "\n",
      "                                                Actors  Year  \\\n",
      "0    Chris Pratt, Vin Diesel, Bradley Cooper, Zoe S...  2014   \n",
      "1    Noomi Rapace, Logan Marshall-Green, Michael Fa...  2012   \n",
      "2    James McAvoy, Anya Taylor-Joy, Haley Lu Richar...  2016   \n",
      "3    Matthew McConaughey,Reese Witherspoon, Seth Ma...  2016   \n",
      "4    Will Smith, Jared Leto, Margot Robbie, Viola D...  2016   \n",
      "..                                                 ...   ...   \n",
      "995  Chiwetel Ejiofor, Nicole Kidman, Julia Roberts...  2015   \n",
      "996  Lauren German, Heather Matarazzo, Bijou Philli...  2007   \n",
      "997  Robert Hoffman, Briana Evigan, Cassie Ventura,...  2008   \n",
      "998  Adam Pally, T.J. Miller, Thomas Middleditch,Sh...  2014   \n",
      "999  Kevin Spacey, Jennifer Garner, Robbie Amell,Ch...  2016   \n",
      "\n",
      "     Runtime (Minutes)  Rating   Votes  Revenue (Millions)  Metascore  \n",
      "0                  121     8.1  757074              333.13       76.0  \n",
      "1                  124     7.0  485820              126.46       65.0  \n",
      "2                  117     7.3  157606              138.12       62.0  \n",
      "3                  108     7.2   60545              270.32       59.0  \n",
      "4                  123     6.2  393727              325.02       40.0  \n",
      "..                 ...     ...     ...                 ...        ...  \n",
      "995                111     6.2   27585                 NaN       45.0  \n",
      "996                 94     5.5   73152               17.54       46.0  \n",
      "997                 98     6.2   70699               58.01       50.0  \n",
      "998                 93     5.6    4881                 NaN       22.0  \n",
      "999                 87     5.3   12435               19.64       11.0  \n",
      "\n",
      "[1000 rows x 12 columns]\n"
     ]
    }
   ],
   "source": [
    "import pandas as pd\n",
    "import numpy as np\n",
    "from matplotlib import pyplot as plt\n",
    "\n",
    "file_path = \"IMDB-Movie-Data.csv\"\n",
    "df = pd.read_csv(file_path) #不加路径默认当前路径\n",
    "print(df)"
   ],
   "metadata": {
    "collapsed": false,
    "pycharm": {
     "name": "#%%\n"
    }
   }
  }
 ],
 "metadata": {
  "kernelspec": {
   "display_name": "Python 3",
   "language": "python",
   "name": "python3"
  },
  "language_info": {
   "codemirror_mode": {
    "name": "ipython",
    "version": 2
   },
   "file_extension": ".py",
   "mimetype": "text/x-python",
   "name": "python",
   "nbconvert_exporter": "python",
   "pygments_lexer": "ipython2",
   "version": "2.7.6"
  }
 },
 "nbformat": 4,
 "nbformat_minor": 0
}